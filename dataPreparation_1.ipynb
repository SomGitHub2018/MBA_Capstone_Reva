{
 "cells": [
  {
   "cell_type": "markdown",
   "metadata": {},
   "source": [
    "## Data preparation from websites"
   ]
  },
  {
   "cell_type": "code",
   "execution_count": 1,
   "metadata": {},
   "outputs": [],
   "source": [
    "import re\n",
    "import requests\n",
    "from requests.adapters import HTTPAdapter\n",
    "from requests.packages.urllib3.util.retry import Retry\n",
    "\n",
    "\n",
    "import pandas as pd\n",
    "from bs4 import BeautifulSoup\n",
    "\n",
    "import string\n",
    "import time\n",
    "\n",
    "import warnings\n",
    "warnings.filterwarnings('ignore')\n",
    "\n",
    "\n",
    "#print multiple statements in same line\n",
    "from IPython.core.interactiveshell import InteractiveShell\n",
    "InteractiveShell.ast_node_interactivity =\"all\""
   ]
  },
  {
   "cell_type": "code",
   "execution_count": 2,
   "metadata": {},
   "outputs": [],
   "source": [
    "import re\n",
    "def extractURLs(fileContent):\n",
    "    urls = re.findall('http[s]?://(?:[a-zA-Z]|[0-9]|[$-_@.&+]|[!*\\(\\),]|(?:%[0-9a-fA-F][0-9a-fA-F]))+', fileContent.lower())\n",
    "    cleanUrls = []\n",
    "    for url in urls:\n",
    "        lastChar = url[-1] # get the last character\n",
    "        # if the last character is not (^ - not) an alphabet, or a number,\n",
    "        # or a '/' (some websites may have that. you can add your own ones), then enter IF condition\n",
    "        if (bool(re.match(r'[^a-zA-Z0-9/]', lastChar))): \n",
    "            cleanUrls.append(url[:-1]) # stripping last character, no matter what\n",
    "        else:\n",
    "            cleanUrls.append(url) # else, simply append to new list\n",
    "    #print(cleanUrls)\n",
    "    return cleanUrls"
   ]
  },
  {
   "cell_type": "code",
   "execution_count": 3,
   "metadata": {},
   "outputs": [],
   "source": [
    "pContentList = []\n",
    "import re\n",
    "linkList = [] \n",
    "with open(\"datasets\\Weblink.txt\") as file:\n",
    "        for line in file:\n",
    "            urls = extractURLs(line)\n",
    "            for eachlink in urls:\n",
    "              session = requests.Session()\n",
    "              retry = Retry(connect=5, backoff_factor=0.5)\n",
    "              time.sleep(0.2)\n",
    "              adapter = HTTPAdapter(max_retries=retry)\n",
    "              session.mount('http://', adapter)\n",
    "              session.mount('https://', adapter)\n",
    "              pageObject  = session.get(eachlink)\n",
    "              soupObject  = BeautifulSoup(pageObject.content, 'html.parser')\n",
    "              divPtags = soupObject.findAll('div', href = False)\n",
    "              allPtags = soupObject.findAll('p', href = False)\n",
    "            for eachPtag in allPtags:\n",
    "                actual_content  = str(eachPtag.getText())      \n",
    "                pContentList.append(actual_content)\n",
    "            for eachPtag in divPtags:\n",
    "                actual_content1  = str(eachPtag.getText())      \n",
    "                pContentList.append(actual_content1)"
   ]
  },
  {
   "cell_type": "code",
   "execution_count": 4,
   "metadata": {},
   "outputs": [
    {
     "data": {
      "text/plain": [
       "(1514, 1)"
      ]
     },
     "execution_count": 4,
     "metadata": {},
     "output_type": "execute_result"
    }
   ],
   "source": [
    "tileDataFrame = pd.DataFrame(pContentList, columns=['Content'])\n",
    "tileDataFrame.shape"
   ]
  },
  {
   "cell_type": "code",
   "execution_count": 5,
   "metadata": {},
   "outputs": [
    {
     "data": {
      "text/plain": [
       "(289, 1)"
      ]
     },
     "execution_count": 5,
     "metadata": {},
     "output_type": "execute_result"
    }
   ],
   "source": [
    "tileDataFrame.drop_duplicates(subset =\"Content\",keep = False, inplace = True)\n",
    "tileDataFrame.shape"
   ]
  },
  {
   "cell_type": "code",
   "execution_count": 6,
   "metadata": {},
   "outputs": [
    {
     "data": {
      "text/html": [
       "<div>\n",
       "<style scoped>\n",
       "    .dataframe tbody tr th:only-of-type {\n",
       "        vertical-align: middle;\n",
       "    }\n",
       "\n",
       "    .dataframe tbody tr th {\n",
       "        vertical-align: top;\n",
       "    }\n",
       "\n",
       "    .dataframe thead th {\n",
       "        text-align: right;\n",
       "    }\n",
       "</style>\n",
       "<table border=\"1\" class=\"dataframe\">\n",
       "  <thead>\n",
       "    <tr style=\"text-align: right;\">\n",
       "      <th></th>\n",
       "      <th>Content</th>\n",
       "    </tr>\n",
       "  </thead>\n",
       "  <tbody>\n",
       "    <tr>\n",
       "      <th>164</th>\n",
       "      <td>In this section:   \\n</td>\n",
       "    </tr>\n",
       "    <tr>\n",
       "      <th>165</th>\n",
       "      <td>Diabetes is a disease that occurs when your bl...</td>\n",
       "    </tr>\n",
       "    <tr>\n",
       "      <th>166</th>\n",
       "      <td>Over time, having too much glucose in your blo...</td>\n",
       "    </tr>\n",
       "    <tr>\n",
       "      <th>167</th>\n",
       "      <td>Sometimes people call diabetes “a touch of sug...</td>\n",
       "    </tr>\n",
       "    <tr>\n",
       "      <th>168</th>\n",
       "      <td>The most common types of diabetes are type 1, ...</td>\n",
       "    </tr>\n",
       "    <tr>\n",
       "      <th>...</th>\n",
       "      <td>...</td>\n",
       "    </tr>\n",
       "    <tr>\n",
       "      <th>1330</th>\n",
       "      <td>\\nIn this section:\\n\\nWhat foods can I eat if ...</td>\n",
       "    </tr>\n",
       "    <tr>\n",
       "      <th>1333</th>\n",
       "      <td>\\nAdditional Links\\n\\nYoung at Heart: Tips for...</td>\n",
       "    </tr>\n",
       "    <tr>\n",
       "      <th>1334</th>\n",
       "      <td>\\n\\n\\nPrevious:\\r\\n                Insulin, Me...</td>\n",
       "    </tr>\n",
       "    <tr>\n",
       "      <th>1335</th>\n",
       "      <td>\\nPrevious:\\r\\n                Insulin, Medici...</td>\n",
       "    </tr>\n",
       "    <tr>\n",
       "      <th>1336</th>\n",
       "      <td>\\nNext:\\r\\n                Preventing Diabetes...</td>\n",
       "    </tr>\n",
       "  </tbody>\n",
       "</table>\n",
       "<p>289 rows × 1 columns</p>\n",
       "</div>"
      ],
      "text/plain": [
       "                                                Content\n",
       "164                               In this section:   \\n\n",
       "165   Diabetes is a disease that occurs when your bl...\n",
       "166   Over time, having too much glucose in your blo...\n",
       "167   Sometimes people call diabetes “a touch of sug...\n",
       "168   The most common types of diabetes are type 1, ...\n",
       "...                                                 ...\n",
       "1330  \\nIn this section:\\n\\nWhat foods can I eat if ...\n",
       "1333  \\nAdditional Links\\n\\nYoung at Heart: Tips for...\n",
       "1334  \\n\\n\\nPrevious:\\r\\n                Insulin, Me...\n",
       "1335  \\nPrevious:\\r\\n                Insulin, Medici...\n",
       "1336  \\nNext:\\r\\n                Preventing Diabetes...\n",
       "\n",
       "[289 rows x 1 columns]"
      ]
     },
     "execution_count": 6,
     "metadata": {},
     "output_type": "execute_result"
    }
   ],
   "source": [
    "tileDataFrame"
   ]
  },
  {
   "cell_type": "code",
   "execution_count": 7,
   "metadata": {},
   "outputs": [],
   "source": [
    "tileDataFrame.to_csv('datasets\\dataFinal1.csv')"
   ]
  },
  {
   "cell_type": "code",
   "execution_count": null,
   "metadata": {},
   "outputs": [],
   "source": []
  }
 ],
 "metadata": {
  "kernelspec": {
   "display_name": "Python 3",
   "language": "python",
   "name": "python3"
  },
  "language_info": {
   "codemirror_mode": {
    "name": "ipython",
    "version": 3
   },
   "file_extension": ".py",
   "mimetype": "text/x-python",
   "name": "python",
   "nbconvert_exporter": "python",
   "pygments_lexer": "ipython3",
   "version": "3.8.5"
  }
 },
 "nbformat": 4,
 "nbformat_minor": 4
}
